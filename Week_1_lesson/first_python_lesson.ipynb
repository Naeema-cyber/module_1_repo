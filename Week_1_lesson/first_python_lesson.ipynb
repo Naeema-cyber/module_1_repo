{
 "cells": [
  {
   "cell_type": "code",
   "execution_count": null,
   "id": "44914d73",
   "metadata": {
    "vscode": {
     "languageId": "plaintext"
    }
   },
   "outputs": [],
   "source": [
    "print (\"hello, world!\")"
   ]
  },
  {
   "cell_type": "markdown",
   "id": "7a63c49a",
   "metadata": {},
   "source": [
    "print (\"hello, world\")"
   ]
  }
 ],
 "metadata": {
  "language_info": {
   "name": "python"
  }
 },
 "nbformat": 4,
 "nbformat_minor": 5
}
