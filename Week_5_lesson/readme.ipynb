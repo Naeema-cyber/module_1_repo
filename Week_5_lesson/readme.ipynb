{
 "cells": [
  {
   "cell_type": "markdown",
   "id": "8a5fbe60",
   "metadata": {},
   "source": [
    "# AGROUSSD PROJECT"
   ]
  },
  {
   "cell_type": "markdown",
   "id": "531b0478",
   "metadata": {},
   "source": [
    "AGROUSSD project is a simulated USSD- based agricultural information system that helps Nigerian farmers access real-time market prices and also helps buyers access produce directly from the farmers without the interference of a middleman.\n",
    "\n",
    "#### Dislaimer alert!!!⚠️⚠️⚠️\n",
    "Note that this project is still under development and more features will be added with time.\n"
   ]
  },
  {
   "cell_type": "markdown",
   "id": "b4c3961c",
   "metadata": {},
   "source": [
    "### Features:\n",
    "- Selection of roles i.e as a farmer or \n",
    "buyer.\n",
    "- New users registration i.e first time users can register either as a farmer or a buyer.\n",
    "- Product addition. Farmers can add new products to their existing products.\n",
    "- Product viewing. Buyers can view the available products and also compare prices to select the most suitable prices.\n",
    "- User data are stored in .json files.\n",
    "\n"
   ]
  },
  {
   "cell_type": "markdown",
   "id": "c3e4bb00",
   "metadata": {},
   "source": [
    "#### "
   ]
  }
 ],
 "metadata": {
  "language_info": {
   "name": "python"
  }
 },
 "nbformat": 4,
 "nbformat_minor": 5
}
